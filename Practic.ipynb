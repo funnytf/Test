{
 "cells": [
  {
   "cell_type": "code",
   "execution_count": 9,
   "metadata": {},
   "outputs": [],
   "source": [
    "#Given an array of integers, find two numbers \n",
    "#such that they add up to a specific target number.\n",
    "#The function twoSum should return indices of the \n",
    "#two numbers such that they add up to the target, \n",
    "#where index1 must be less than index2. \n",
    "#Please note that your returned answers (both index1 and index2) are zero-based.\n",
    "#example\n",
    "#numbers=[2, 7, 11, 15], target=9, return[0,1]\n",
    "\n",
    "def twosum(numbers,target):\n",
    "    k = len(numbers)\n",
    "    for n in range(0,k-1):\n",
    "        for m in range(n+1,k):\n",
    "            if target == (numbers[n]+numbers[m]):\n",
    "                return [n,m]\n",
    "    pass"
   ]
  },
  {
   "cell_type": "code",
   "execution_count": 13,
   "metadata": {},
   "outputs": [
    {
     "data": {
      "text/plain": [
       "[0, 4]"
      ]
     },
     "execution_count": 13,
     "metadata": {},
     "output_type": "execute_result"
    }
   ],
   "source": [
    "twosum([2,7,11,15,3,5],5)"
   ]
  },
  {
   "cell_type": "code",
   "execution_count": 14,
   "metadata": {},
   "outputs": [
    {
     "data": {
      "text/plain": [
       "0.16666666666666666"
      ]
     },
     "execution_count": 14,
     "metadata": {},
     "output_type": "execute_result"
    }
   ],
   "source": [
    "#Throw n dices, the sum of the dices' faces is S. \n",
    "#Given n, find the all possible value of S along with its probability.\n",
    "#Given n = 1, return [ [1, 0.17], [2, 0.17], [3, 0.17], [4, 0.17], [5, 0.17], [6, 0.17]]\n",
    "\n",
    "def dices(n):\n",
    "    k = [1,2,3,4,5,6]\n",
    "    y = []\n",
    "    while\n",
    "    for q in range(0,6):\n",
    "        for r in range(0,6):\n",
    "            y.append(k[q]+k[r])\n",
    "            y.append(y[]+k[r])"
   ]
  },
  {
   "cell_type": "code",
   "execution_count": 15,
   "metadata": {},
   "outputs": [
    {
     "data": {
      "text/plain": [
       "0.027777777777777776"
      ]
     },
     "execution_count": 15,
     "metadata": {},
     "output_type": "execute_result"
    }
   ],
   "source": [
    "(1/6)**n"
   ]
  },
  {
   "cell_type": "code",
   "execution_count": 19,
   "metadata": {},
   "outputs": [
    {
     "data": {
      "text/plain": [
       "[3, 5]"
      ]
     },
     "execution_count": 19,
     "metadata": {},
     "output_type": "execute_result"
    }
   ],
   "source": [
    "y=[]\n",
    "y.append(3)\n",
    "y.append(5)\n",
    "y"
   ]
  },
  {
   "cell_type": "code",
   "execution_count": 3,
   "metadata": {},
   "outputs": [],
   "source": [
    "    def fibonacci(self, n):\n",
    "        k = [0,1]\n",
    "        w = 0\n",
    "        if n <= 2:\n",
    "            return k[n-1]\n",
    "        else:\n",
    "            while len(k)<=n :\n",
    "                for t in range(2,n):\n",
    "                    w = k[t-1]+k[t-2]\n",
    "                    k.append(w)\n",
    "        return k[n-1]"
   ]
  },
  {
   "cell_type": "code",
   "execution_count": null,
   "metadata": {},
   "outputs": [],
   "source": []
  }
 ],
 "metadata": {
  "kernelspec": {
   "display_name": "Python 3",
   "language": "python",
   "name": "python3"
  },
  "language_info": {
   "codemirror_mode": {
    "name": "ipython",
    "version": 3
   },
   "file_extension": ".py",
   "mimetype": "text/x-python",
   "name": "python",
   "nbconvert_exporter": "python",
   "pygments_lexer": "ipython3",
   "version": "3.7.0"
  }
 },
 "nbformat": 4,
 "nbformat_minor": 2
}
