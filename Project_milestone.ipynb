{
 "cells": [
  {
   "cell_type": "code",
   "execution_count": 6,
   "metadata": {},
   "outputs": [],
   "source": [
    "from IPython.display import clear_output\n",
    "clear_output\n",
    "def display_board (board):\n",
    "    print(board[7]+'|'+board[8]+'|'+board[9])\n",
    "    print(board[4]+'|'+board[5]+'|'+board[6])\n",
    "    print(board[1]+'|'+board[2]+'|'+board[3])"
   ]
  },
  {
   "cell_type": "code",
   "execution_count": 7,
   "metadata": {},
   "outputs": [
    {
     "name": "stdout",
     "output_type": "stream",
     "text": [
      "O|X|O\n",
      "X|O|X\n",
      "O|X|O\n"
     ]
    }
   ],
   "source": [
    "test_board = ['#','O','X','O','X','O','X','O','X','O']\n",
    "display_board(test_board)"
   ]
  },
  {
   "cell_type": "code",
   "execution_count": 52,
   "metadata": {},
   "outputs": [
    {
     "name": "stdout",
     "output_type": "stream",
     "text": [
      "Please choose 'X' or 'O' for player_1: p\n",
      "Invalid Input!\n",
      "Please choose 'X' or 'O' for player_1: X\n",
      "The player_1 will use X and player_2 will use O\n"
     ]
    }
   ],
   "source": [
    "Char_1=''\n",
    "Char_2=''\n",
    "while not(Char_1=='X' or Char_1=='O'):\n",
    "    Char_1 = input(\"Please choose 'X' or 'O' for player_1: \")\n",
    "    if Char_1=='X':\n",
    "        Char_2 = 'O'\n",
    "        break\n",
    "    elif Char_1=='O':\n",
    "        Char_2 = 'X'\n",
    "        break\n",
    "    else:\n",
    "        print('Invalid Input!')\n",
    "        continue\n",
    "print(f'The player_1 will use {Char_1} and player_2 will use {Char_2}')"
   ]
  },
  {
   "cell_type": "code",
   "execution_count": 116,
   "metadata": {},
   "outputs": [
    {
     "name": "stdout",
     "output_type": "stream",
     "text": [
      "X|#|#\n",
      "#|X|#\n",
      "O|O|X\n",
      "Player_1 win!\n"
     ]
    }
   ],
   "source": [
    "from IPython.display import clear_output\n",
    "\n",
    "def check(board):\n",
    "    if board[1]==board[2]==board[3] or board[4]==board[5]==board[6] or board[7]==board[8]==board[9]:\n",
    "        return True\n",
    "    elif board[1]==board[4]==board[7] or board[2]==board[5]==board[8] or board[3]==board[6]==board[9]:\n",
    "        return True\n",
    "    elif board[1]==board[5]==board[9] or board[3]==board[5]==board[7]:\n",
    "        return True\n",
    "    else:\n",
    "        return False\n",
    "    pass\n",
    "\n",
    "def display_board (board):\n",
    "    clear_output()\n",
    "    print(board[7][0]+'|'+board[8][0]+'|'+board[9][0])\n",
    "    print(board[4][0]+'|'+board[5][0]+'|'+board[6][0])\n",
    "    print(board[1][0]+'|'+board[2][0]+'|'+board[3][0])\n",
    "    pass\n",
    "\n",
    "board = [['#',0],['#',1],['#',2],['#',3],['#',4],['#',5],['#',6],['#',7],['#',8],['#',9]]\n",
    "turn = 1\n",
    "Player_1 = False\n",
    "Player_2 = False\n",
    "Nomore = False\n",
    "\n",
    "Char_1=''\n",
    "Char_2=''\n",
    "while not(Char_1=='X' or Char_1=='O'):\n",
    "    Char_1 = input(\"Please choose 'X' or 'O' for player_1: \")\n",
    "    if Char_1=='X':\n",
    "        Char_2 = 'O'\n",
    "        break\n",
    "    elif Char_1=='O':\n",
    "        Char_2 = 'X'\n",
    "        break\n",
    "    else:\n",
    "        print('Invalid Input!')\n",
    "        continue\n",
    "print(f'The player_1 will use {Char_1} and player_2 will use {Char_2}')\n",
    "\n",
    "while not(Player_1 or Player_2 or Nomore):\n",
    "    if turn == 1:\n",
    "        num = int(input('Player_1 please give a number:'))\n",
    "        key = Char_1\n",
    "        board[num] = [key,n]\n",
    "        Player_1 = check(board)\n",
    "        turn = 2\n",
    "    else:\n",
    "        num = int(input('Plater_2 please give a number:'))\n",
    "        key = Char_2\n",
    "        board[num] = [key,n]\n",
    "        Player_2 = check(board)\n",
    "        turn = 1\n",
    "        \n",
    "    display_board(board)\n",
    "    \n",
    "    if Player_1 == True:\n",
    "        print('Player_1 win!')\n",
    "    elif Player_2 == True:\n",
    "        print('Player_2 win!')"
   ]
  },
  {
   "cell_type": "code",
   "execution_count": 171,
   "metadata": {},
   "outputs": [
    {
     "name": "stdout",
     "output_type": "stream",
     "text": [
      "[[['#', '$', 0], ['', '', ''], ['', '', ''], ['', '', ''], ['', '', ''], ['', '', ''], ['', '', ''], ['', '', '']]]\n",
      "[[['#', '$', 0], ['#', '$', 1], ['', '', ''], ['', '', ''], ['', '', ''], ['', '', ''], ['', '', ''], ['', '', '']]]\n",
      "[[['#', '$', 0], ['#', '$', 1], ['#', '$', 2], ['', '', ''], ['', '', ''], ['', '', ''], ['', '', ''], ['', '', '']]]\n",
      "[[['#', '$', 0], ['#', '$', 1], ['#', '$', 2], ['#', '$', 3], ['', '', ''], ['', '', ''], ['', '', ''], ['', '', '']]]\n",
      "[[['#', '$', 0], ['#', '$', 1], ['#', '$', 2], ['#', '$', 3], ['#', '$', 4], ['', '', ''], ['', '', ''], ['', '', '']]]\n",
      "[[['#', '$', 0], ['#', '$', 1], ['#', '$', 2], ['#', '$', 3], ['#', '$', 4], ['#', '$', 5], ['', '', ''], ['', '', '']]]\n",
      "[[['#', '$', 0], ['#', '$', 1], ['#', '$', 2], ['#', '$', 3], ['#', '$', 4], ['#', '$', 5], ['#', '$', 6], ['', '', '']]]\n",
      "[[['#', '$', 0], ['#', '$', 1], ['#', '$', 2], ['#', '$', 3], ['#', '$', 4], ['#', '$', 5], ['#', '$', 6], ['#', '$', 7]]]\n"
     ]
    }
   ],
   "source": [
    "k = [[['']*3]*8]\n",
    "w = 0\n",
    "for n in range(0,8):\n",
    "    k[0][w]=['#','$',w]\n",
    "#    k[1][w]= w\n",
    "    print(k)\n",
    "    w+=1"
   ]
  },
  {
   "cell_type": "code",
   "execution_count": null,
   "metadata": {},
   "outputs": [],
   "source": []
  },
  {
   "cell_type": "code",
   "execution_count": null,
   "metadata": {},
   "outputs": [],
   "source": []
  }
 ],
 "metadata": {
  "kernelspec": {
   "display_name": "Python 3",
   "language": "python",
   "name": "python3"
  },
  "language_info": {
   "codemirror_mode": {
    "name": "ipython",
    "version": 3
   },
   "file_extension": ".py",
   "mimetype": "text/x-python",
   "name": "python",
   "nbconvert_exporter": "python",
   "pygments_lexer": "ipython3",
   "version": "3.7.0"
  }
 },
 "nbformat": 4,
 "nbformat_minor": 2
}
